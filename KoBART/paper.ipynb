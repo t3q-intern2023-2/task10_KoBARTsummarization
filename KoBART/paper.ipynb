{
 "cells": [
  {
   "cell_type": "markdown",
   "metadata": {},
   "source": [
    "paper 전처리 빠른 학습 로거 확인용"
   ]
  },
  {
   "cell_type": "code",
   "execution_count": null,
   "metadata": {},
   "outputs": [],
   "source": [
    "# make index list\n",
    "import os\n",
    "import numpy as np\n",
    "import json\n",
    "import pandas as pd\n",
    "from collections import Counter\n",
    "\n",
    "summary_json_list = []                         # 각 파일 리스트 배열에 저장용\n",
    "for filename in os.listdir(\"./paper/train\"):\n",
    "  summary_json_list.append(filename)\n",
    "\n",
    "print(summary_json_list)\n",
    "print(len(summary_json_list))"
   ]
  },
  {
   "cell_type": "code",
   "execution_count": null,
   "metadata": {},
   "outputs": [],
   "source": [
    "psg_tsv = [] # 원본\n",
    "smy_tsv = [] # 요약\n",
    "\n",
    "PATH = \"./paper/train\"\n",
    "for filename in os.listdir(\"./paper/train\"):\n",
    "    path = PATH + str('/') + filename\n",
    "    print(path) # ./T3Qdata/REPORT-news_r-00007-00001.json\n",
    "\n",
    "    with open(str(path), \"r\") as json_file:\n",
    "      json_load = json.load(json_file)\n",
    "      \n",
    "      passage = \" \".join(json_load['Meta(Refine)']['passage'].replace(\"\\n\", \" \").split()) # 원문데이터 \n",
    "      psg_tsv.append(passage)\n",
    "\n",
    "      summary = \" \".join(json_load['Annotation']['summary1'].replace(\"\\n\", \" \").split()) # 요약 데이터\n",
    "      smy_tsv.append(summary)\n",
    "\n",
    "      #print('원문',psg_tsv)\n",
    "      #print('요약',smy_tsv)\n",
    "\n",
    "  \n",
    "#print('원문:', psg_tsv)\n",
    "#print('요약:', smy_tsv)        \n",
    "#print('끝')"
   ]
  },
  {
   "cell_type": "code",
   "execution_count": null,
   "metadata": {},
   "outputs": [],
   "source": [
    "test_labeling = pd.concat([pd.DataFrame(summary_json_list), pd.DataFrame(psg_tsv),pd.DataFrame(smy_tsv)], axis = 1)\n",
    "test_labeling.columns = ['T3Q_File','passage' ,'summary'] # 뉴스 학습데이터 양식 맞추기 (원문  요약문 => 탭 구분)\n",
    "test_labeling"
   ]
  },
  {
   "cell_type": "code",
   "execution_count": null,
   "metadata": {},
   "outputs": [],
   "source": [
    "summary_labeling = pd.concat([pd.DataFrame(psg_tsv),pd.DataFrame(smy_tsv)], axis = 1)\n",
    "summary_labeling.columns = ['passage' ,'summary'] # 뉴스 학습데이터 양식 맞추기 (원문  요약문 => 탭 구분)\n",
    "summary_labeling"
   ]
  },
  {
   "cell_type": "markdown",
   "metadata": {},
   "source": [
    "# TSV 파일 저장하기"
   ]
  },
  {
   "cell_type": "code",
   "execution_count": null,
   "metadata": {},
   "outputs": [],
   "source": [
    "# 쉼표 구분으로 저장 되니 주의 \n",
    "# summary_labeling.to_csv('./T3Qdata/data/summary_labeling.tsv', index=False) # 쉼표 구분으로 저장 되니 주의 \n",
    "\n",
    "# DataFrame 이나 Serises 를 tsv 파일로 깔끔하게 바꿀경우\n",
    "summary_labeling.to_csv('./data/paper_train.tsv', index=False, sep=\"\\t\") # sep활용하여 tab 구분 정의 "
   ]
  },
  {
   "cell_type": "markdown",
   "metadata": {},
   "source": [
    "\n",
    "\n",
    "검증데이터 \n"
   ]
  },
  {
   "cell_type": "code",
   "execution_count": null,
   "metadata": {},
   "outputs": [],
   "source": [
    "# make index list\n",
    "import os\n",
    "import numpy as np\n",
    "import json\n",
    "import pandas as pd\n",
    "from collections import Counter\n",
    "\n",
    "test_summary_json_list = []                         # 각 파일 리스트 배열에 저장용\n",
    "for filename in os.listdir(\"./paper/test\"):\n",
    "  test_summary_json_list.append(filename)\n",
    "\n",
    "print(test_summary_json_list)\n",
    "print(len(test_summary_json_list))"
   ]
  },
  {
   "cell_type": "code",
   "execution_count": null,
   "metadata": {},
   "outputs": [],
   "source": [
    "test_psg_tsv = [] # 원본\n",
    "test_smy_tsv = [] # 요약\n",
    "\n",
    "PATH = \"./paper/test\"\n",
    "for filename in os.listdir(\"./paper/test\"):\n",
    "    path = PATH + str('/') + filename\n",
    "    print(path) # ./T3Qdata/REPORT-news_r-00007-00001.json\n",
    "\n",
    "    with open(str(path), \"r\") as json_file:\n",
    "      json_load = json.load(json_file)\n",
    "      \n",
    "      passage = \" \".join(json_load['Meta(Refine)']['passage'].replace(\"\\n\", \" \").split()) # 원문데이터 \n",
    "      test_psg_tsv.append(passage)\n",
    "\n",
    "      summary = \" \".join(json_load['Annotation']['summary1'].replace(\"\\n\", \" \").split()) # 요약 데이터\n",
    "      test_smy_tsv.append(summary)\n",
    "\n",
    "      #print('원문',psg_tsv)\n",
    "      #print('요약',smy_tsv)\n",
    "\n",
    "  \n",
    "print('원문:', test_psg_tsv)\n",
    "print('요약:', test_smy_tsv)        \n",
    "print('끝')"
   ]
  },
  {
   "cell_type": "code",
   "execution_count": null,
   "metadata": {},
   "outputs": [],
   "source": [
    "test1_labeling = pd.concat([pd.DataFrame(test_summary_json_list), pd.DataFrame(test_psg_tsv),pd.DataFrame(test_smy_tsv)], axis = 1)\n",
    "test1_labeling.columns = ['T3Q_File','passage' ,'summary'] # 뉴스 학습데이터 양식 맞추기 (원문  요약문 => 탭 구분)\n",
    "test1_labeling"
   ]
  },
  {
   "cell_type": "code",
   "execution_count": null,
   "metadata": {},
   "outputs": [],
   "source": [
    "summary1_labeling = pd.concat([pd.DataFrame(test_psg_tsv),pd.DataFrame(test_smy_tsv)], axis = 1)\n",
    "summary1_labeling.columns = ['passage' ,'summary'] # 뉴스 학습데이터 양식 맞추기 (원문  요약문 => 탭 구분)\n",
    "summary1_labeling"
   ]
  },
  {
   "cell_type": "code",
   "execution_count": null,
   "metadata": {},
   "outputs": [],
   "source": [
    "# 쉼표 구분으로 저장 되니 주의 \n",
    "# summary_labeling.to_csv('./T3Qdata/data/summary_labeling.tsv', index=False) # 쉼표 구분으로 저장 되니 주의 \n",
    "\n",
    "# DataFrame 이나 Serises 를 tsv 파일로 깔끔하게 바꿀경우\n",
    "summary1_labeling.to_csv('./data/paper_test.tsv', index=False, sep=\"\\t\") # sep활용하여 tab 구분 정의 "
   ]
  }
 ],
 "metadata": {
  "kernelspec": {
   "display_name": "T3Q",
   "language": "python",
   "name": "python3"
  },
  "language_info": {
   "codemirror_mode": {
    "name": "ipython",
    "version": 3
   },
   "file_extension": ".py",
   "mimetype": "text/x-python",
   "name": "python",
   "nbconvert_exporter": "python",
   "pygments_lexer": "ipython3",
   "version": "3.11.3"
  },
  "orig_nbformat": 4
 },
 "nbformat": 4,
 "nbformat_minor": 2
}
